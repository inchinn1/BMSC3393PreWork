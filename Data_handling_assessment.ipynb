{
 "cells": [
  {
   "cell_type": "markdown",
   "metadata": {},
   "source": [
    "# Data handling assessment"
   ]
  },
  {
   "cell_type": "code",
   "execution_count": 9,
   "metadata": {
    "execution": {
     "iopub.execute_input": "2023-02-20T19:35:53.786032Z",
     "iopub.status.busy": "2023-02-20T19:35:53.785435Z",
     "iopub.status.idle": "2023-02-20T19:35:53.798571Z",
     "shell.execute_reply": "2023-02-20T19:35:53.793730Z",
     "shell.execute_reply.started": "2023-02-20T19:35:53.785976Z"
    },
    "tags": []
   },
   "outputs": [],
   "source": [
    "from DataGen import *   # generates your data\n",
    "import matplotlib.pyplot as plt ## this has imported matplotlib's pyplot as plt\n",
    "plt.rcParams.update({'font.size': 14, 'figure.figsize': [16, 7]}) # sets better defaults for matplotlib graphs\n",
    "\n",
    "import numpy as np  ## this has imported numpy which you can refer to as np\n",
    "import scipy.stats as stats ## this has importated SciPy's statistics package as stats, you may find this useful.\n",
    "import scipy.signal as signal ## imports the signal processing module as signal\n",
    "import scipy.optimize as fit  ## imports the optimization tool box as fit\n",
    "\n",
    "import glob  # imports the glob module\n",
    "import warnings  # prevents printing of some warnings\n",
    "warnings.filterwarnings('ignore')"
   ]
  },
  {
   "cell_type": "markdown",
   "metadata": {},
   "source": [
    "### Each student has a unique data set to process. \n",
    "> 1) To initailise your unique data set insert your 9 digit student number below as a string i.e. inside the inverted commas and run the cell.\n",
    "\n",
    "The length of ID should be 9\n"
   ]
  },
  {
   "cell_type": "code",
   "execution_count": null,
   "metadata": {
    "tags": []
   },
   "outputs": [],
   "source": [
    "ID = 'replace this text with your student number, leave the inverted commas but do not leave any spaces' # replace these numbers with you student ID\n",
    "print(len(ID))"
   ]
  },
  {
   "cell_type": "markdown",
   "metadata": {},
   "source": [
    "### 1) Loading files\n",
    "- It is useful to be able to load multiple data sets from a folder.\n",
    "\n",
    "> 1) Run the cell below to initialize your data sets, they will appear in the 'Data sets' folder where you launched this notebook from."
   ]
  },
  {
   "cell_type": "code",
   "execution_count": 11,
   "metadata": {
    "execution": {
     "iopub.execute_input": "2023-02-20T19:35:56.808331Z",
     "iopub.status.busy": "2023-02-20T19:35:56.807784Z",
     "iopub.status.idle": "2023-02-20T19:35:56.838815Z",
     "shell.execute_reply": "2023-02-20T19:35:56.837492Z",
     "shell.execute_reply.started": "2023-02-20T19:35:56.808260Z"
    },
    "tags": []
   },
   "outputs": [],
   "source": [
    "dataFolder(ID) ## this creates your data files to process"
   ]
  },
  {
   "cell_type": "markdown",
   "metadata": {},
   "source": [
    "- The data that you want to load is contained in .csv files\n",
    "- Each file contains a single number\n",
    "\n",
    "> 2) Make a sorted list of these csv file names.    \n",
    ">3) Then loop through this list and load each csv file.   \n",
    ">4) On each iteration of the loop print the data you have loaded.    \n",
    "\n"
   ]
  },
  {
   "cell_type": "code",
   "execution_count": null,
   "metadata": {},
   "outputs": [],
   "source": [
    "\n",
    "\n",
    "\n",
    "\n"
   ]
  },
  {
   "cell_type": "markdown",
   "metadata": {},
   "source": [
    "### 2) An experimenter has measured the size of muscle cells and wants to summarise their findings for the whole population of cells\n",
    "- Each data point corresponds to the area of a cell in µm$^2$  \n",
    "\n",
    ">1) Run the cell below to initialize your data set on cell size"
   ]
  },
  {
   "cell_type": "code",
   "execution_count": null,
   "metadata": {
    "tags": []
   },
   "outputs": [],
   "source": [
    "CellSize = getCellSize(ID) # this loads your data for this task in to the numpy array called 'CellSize'"
   ]
  },
  {
   "cell_type": "markdown",
   "metadata": {},
   "source": [
    ">2)  Plot a histogram of CellSize with 60 bins.  \n",
    ">3) Then print appropriate summary statistics e.g. mean and SD or median and 25th & 75th percentiles.    \n",
    ">4) Print some text to justify your choice.  "
   ]
  },
  {
   "cell_type": "code",
   "execution_count": null,
   "metadata": {
    "tags": []
   },
   "outputs": [],
   "source": [
    "\n",
    "\n",
    "\n",
    "\n",
    "\n",
    "\n"
   ]
  },
  {
   "cell_type": "markdown",
   "metadata": {},
   "source": [
    "### 3) An experimenter has made an extracellular recording from a motor nerve and wants to determine the change in the mean firing rate of this nerve during a voluntary contraction.\n",
    "\n",
    "\n",
    "- The sample rate of the recording was 10kHz\n",
    "- The data is recorded in µV\n",
    "- The recording is 10 seconds in length\n",
    "- The voluntary contraction began at 5 seconds and lasted 5 seconds.\n",
    "\n",
    "\n",
    "> 1) Run the cell below to generate your nerve data as an array\n"
   ]
  },
  {
   "cell_type": "code",
   "execution_count": null,
   "metadata": {
    "tags": []
   },
   "outputs": [],
   "source": [
    "nerve = getSpike(ID) # this loads your data for this task in to the numpy array called 'Nerve'"
   ]
  },
  {
   "cell_type": "markdown",
   "metadata": {},
   "source": [
    ">2) In the cell below plot the nerve recording with the correct time scale.    \n",
    ">3) Detect spikes in the 5 seconds before contraction and calculate the mean spike rate in Hz. Print a description of this information.       \n",
    ">4) Then determine by how much the mean firing rate of the nerve increased during the voluntary contractaion. Print a description of this information. "
   ]
  },
  {
   "cell_type": "code",
   "execution_count": null,
   "metadata": {
    "tags": []
   },
   "outputs": [],
   "source": [
    "\n",
    "\n",
    "\n",
    "\n",
    "\n",
    "\n",
    "\n"
   ]
  },
  {
   "cell_type": "markdown",
   "metadata": {},
   "source": [
    "### 4) An experimenter wants to determine whether a new drug is effective in increasing platelet count in patients with thrombocytopenia (low platelet count). \n",
    "\n",
    "\n",
    "- A platelet count below 150,000 platelets µl<sup>-1</sup>  indicates a clinical risk.\n",
    "\n",
    "- The experimenter has administered the new drug to 900 thrombocytopenia patients and measured platelet counts before and after treatment with the drug.\n",
    "\n",
    ">1) Run the cell below to load your platelet count data\n"
   ]
  },
  {
   "cell_type": "code",
   "execution_count": null,
   "metadata": {
    "scrolled": true,
    "tags": []
   },
   "outputs": [],
   "source": [
    "platelets = getPlatelets(ID) # this loads your data for this task in to the numpy array called 'mRNAs'"
   ]
  },
  {
   "cell_type": "markdown",
   "metadata": {},
   "source": [
    "- The 1st column of \"platelets\" is the pre-treatment counts and the 2nd contains the data for the same patients post-treatment.\n",
    "- Each row corresponds to the platelet count per µl for each patient.\n",
    "\n",
    ">2) Plot a graph showing the histograms of the platelet counts. Use 40 bins for each histogram.    \n",
    ">3) Determine whether the drug has a significant effect. Print some text justifying your conclusion.\n",
    ">4) Print some text describing whether the new drug effective at increasing platelet counts to healthy levels?"
   ]
  },
  {
   "cell_type": "code",
   "execution_count": null,
   "metadata": {
    "tags": []
   },
   "outputs": [],
   "source": [
    "\n",
    "\n",
    "\n",
    "\n",
    "\n",
    "\n"
   ]
  },
  {
   "cell_type": "markdown",
   "metadata": {},
   "source": [
    "### 5)  An experimenter is measuring the drug concentration in the blood to estimate its elimation rate.\n",
    "\n",
    "- Samples were taken every 5 minutes\n",
    "- Each data point is the concentration of drug in µg l<sup>-1</sup>\n",
    "\n",
    ">1) Run the cell below to generate your drug measurements"
   ]
  },
  {
   "cell_type": "code",
   "execution_count": null,
   "metadata": {
    "tags": []
   },
   "outputs": [],
   "source": [
    "drug = getDrug(ID) # this loads your data for this task in to the numpy array called 'drug'"
   ]
  },
  {
   "cell_type": "markdown",
   "metadata": {},
   "source": [
    ">2) Plot the data as a scatter plot i.e. points for markers rather than lines between points.  \n",
    ">3) Define the appropriate equation for an [exponential decay](https://en.wikipedia.org/wiki/Exponential_decay) which describes the clearnce of a drug from the body.  \n",
    ">4) Fit this equation to your data and plot the best fit.   \n",
    "> 5) Determine the rate constant of drug clearance and print this with some descriptive text.\n"
   ]
  },
  {
   "cell_type": "code",
   "execution_count": null,
   "metadata": {
    "tags": []
   },
   "outputs": [],
   "source": [
    "\n",
    "\n",
    "\n",
    "\n",
    "\n"
   ]
  },
  {
   "cell_type": "markdown",
   "metadata": {},
   "source": [
    "### 6) An experimenter has recorded the time of wheel running events and wants to generate a ciradian actogram of this data.\n",
    "\n",
    "An actogram is a graphical representation showing when activty occured over time\n",
    "\n",
    "![Example of an Actogram](Example_Actogram.png)\n",
    "\n",
    "\n",
    "- The experiemnt ran for 35 days\n",
    "- The time stamps of wheel running were saved to a .csv file with 1 file for each day\n",
    "> 1) Run the cell below to generate you data which will appear in the 'Circadian data' folder"
   ]
  },
  {
   "cell_type": "code",
   "execution_count": null,
   "metadata": {},
   "outputs": [],
   "source": [
    "getCircadian(ID) # this will generate lots of files in the 'Circadian data' folder."
   ]
  },
  {
   "cell_type": "markdown",
   "metadata": {},
   "source": [
    "> 2) Generate a graph similar to the example shown above using the data files in the \"Circadian data\" folder. Hint: use '|' as the markers.  \n",
    "> 3) Judging from your actogram, on what day was the light cycle altered? print your answer with some descriptive text under your graph\n",
    "\n"
   ]
  },
  {
   "cell_type": "code",
   "execution_count": null,
   "metadata": {
    "scrolled": true
   },
   "outputs": [],
   "source": [
    "\n",
    "\n",
    "\n",
    "\n",
    "\n"
   ]
  }
 ],
 "metadata": {
  "kernelspec": {
   "display_name": "Python 3 (ipykernel)",
   "language": "python",
   "name": "python3"
  },
  "language_info": {
   "codemirror_mode": {
    "name": "ipython",
    "version": 3
   },
   "file_extension": ".py",
   "mimetype": "text/x-python",
   "name": "python",
   "nbconvert_exporter": "python",
   "pygments_lexer": "ipython3",
   "version": "3.9.13"
  },
  "toc": {
   "base_numbering": 1,
   "nav_menu": {},
   "number_sections": true,
   "sideBar": true,
   "skip_h1_title": false,
   "title_cell": "Table of Contents",
   "title_sidebar": "Contents",
   "toc_cell": false,
   "toc_position": {},
   "toc_section_display": true,
   "toc_window_display": false
  },
  "varInspector": {
   "cols": {
    "lenName": 16,
    "lenType": 16,
    "lenVar": 40
   },
   "kernels_config": {
    "python": {
     "delete_cmd_postfix": "",
     "delete_cmd_prefix": "del ",
     "library": "var_list.py",
     "varRefreshCmd": "print(var_dic_list())"
    },
    "r": {
     "delete_cmd_postfix": ") ",
     "delete_cmd_prefix": "rm(",
     "library": "var_list.r",
     "varRefreshCmd": "cat(var_dic_list()) "
    }
   },
   "types_to_exclude": [
    "module",
    "function",
    "builtin_function_or_method",
    "instance",
    "_Feature"
   ],
   "window_display": false
  }
 },
 "nbformat": 4,
 "nbformat_minor": 4
}
