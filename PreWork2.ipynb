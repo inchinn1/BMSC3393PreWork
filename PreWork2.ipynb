{
 "cells": [
  {
   "cell_type": "markdown",
   "metadata": {},
   "source": [
    "# Loading and using modules/libraries"
   ]
  },
  {
   "cell_type": "markdown",
   "metadata": {},
   "source": [
    "## Python has been extended with modules developed by a massive community to enable you to do pretty much any kind of analysis or data visualisation that you need \n",
    "##### Note on terminology: Libraries are collections of packages which are collections of modules \n",
    "\n",
    "### To use any of these modules you normally need to install the package/module:\n",
    "- for this workshop I have already installed what you require\n",
    "- once libraries/packages have been installed you need to import them into the note book\n",
    "- run the cell below to do this\n",
    "\n"
   ]
  },
  {
   "cell_type": "code",
   "execution_count": 4,
   "metadata": {},
   "outputs": [],
   "source": [
    "import numpy as np \n",
    "# the line above imports all of the numpy package which you will now refer to as 'np'\n",
    "from matplotlib import pyplot as plt \n",
    "# the line above imports the pyplot package from the matplotlib library which you will \n",
    "# now refer to as plt, it is useful for plotting data\n",
    "\n",
    "%matplotlib widget\n"
   ]
  },
  {
   "cell_type": "markdown",
   "metadata": {},
   "source": [
    "#### Recall that you can not do maths with lists of numbers\n",
    "- run the below cell to recreate the list of numbers from PreWork1"
   ]
  },
  {
   "cell_type": "code",
   "execution_count": 20,
   "metadata": {},
   "outputs": [],
   "source": [
    "numbersInList=[0,1,2,3,4,5,6,7,8,9]  # this is our numbers in list from PreWork1 "
   ]
  },
  {
   "cell_type": "markdown",
   "metadata": {},
   "source": [
    "#### We will now use numPy to convert the list of numbers to an NumPy array. This is done with np.asarray( )"
   ]
  },
  {
   "cell_type": "code",
   "execution_count": 28,
   "metadata": {},
   "outputs": [],
   "source": [
    "arrayOfNumbers=np.asarray(numbersInList)"
   ]
  },
  {
   "cell_type": "code",
   "execution_count": 29,
   "metadata": {},
   "outputs": [
    {
     "name": "stdout",
     "output_type": "stream",
     "text": [
      "[0 1 2 3 4 5 6 7 8 9]\n"
     ]
    }
   ],
   "source": [
    "print(arrayOfNumbers)   #we have now converted the list of numbers to an array"
   ]
  },
  {
   "cell_type": "markdown",
   "metadata": {},
   "source": [
    "#### Now try multiplying this arrayOfNumbers by 3\n",
    "- make a new variable result =  arrayOfNumbers * 3\n",
    "- then print result"
   ]
  },
  {
   "cell_type": "code",
   "execution_count": 30,
   "metadata": {},
   "outputs": [
    {
     "name": "stdout",
     "output_type": "stream",
     "text": [
      "[ 0  3  6  9 12 15 18 21 24 27]\n"
     ]
    }
   ],
   "source": [
    "result = arrayOfNumbers * 3\n",
    "print(result)"
   ]
  },
  {
   "cell_type": "markdown",
   "metadata": {},
   "source": [
    "#### Similar to a list you can use indexing [ ] to refer to particular places in the array\n",
    "- try print(arrayOfNumbers[3])\n",
    "- you can also specify a range using start:stop, e.g. try print(arrayOfNumbers[2:5])"
   ]
  },
  {
   "cell_type": "code",
   "execution_count": 31,
   "metadata": {},
   "outputs": [
    {
     "name": "stdout",
     "output_type": "stream",
     "text": [
      "3\n",
      "[2 3 4]\n"
     ]
    }
   ],
   "source": [
    "print(arrayOfNumbers[3])\n",
    "print(arrayOfNumbers[2:5])"
   ]
  },
  {
   "cell_type": "markdown",
   "metadata": {},
   "source": [
    "********\n",
    "---------\n",
    "#### You can think of arrays a bit like an excel sheet. Our \"arrayOfNumbers\" is equivalent to a single column with 10 rows \n",
    "- run the next cell to create an array with 2 columns of 10 rows"
   ]
  },
  {
   "cell_type": "code",
   "execution_count": 62,
   "metadata": {},
   "outputs": [
    {
     "name": "stdout",
     "output_type": "stream",
     "text": [
      "[[ 0 10]\n",
      " [ 1 11]\n",
      " [ 2 12]\n",
      " [ 3 13]\n",
      " [ 4 14]\n",
      " [ 5 15]\n",
      " [ 6 16]\n",
      " [ 7 17]\n",
      " [ 8 18]\n",
      " [ 9 19]]\n"
     ]
    }
   ],
   "source": [
    "twoColumns =np.vstack((arrayOfNumbers,arrayOfNumbers+10)).T\n",
    "# you do not need to understand the above line. I have just used it to create some test data\n",
    "print(twoColumns)"
   ]
  },
  {
   "cell_type": "markdown",
   "metadata": {},
   "source": [
    "#### A very useful query is what shape an array has, i.e. how may rows and how many columns\n",
    "- you can do this by simply using .shape\n",
    "- in the cell below type print(twoColumns.shape) and run it\n",
    "- this will return 2 numbers the first is the number of rows, the second is the number of columns"
   ]
  },
  {
   "cell_type": "code",
   "execution_count": 59,
   "metadata": {},
   "outputs": [
    {
     "name": "stdout",
     "output_type": "stream",
     "text": [
      "(10, 2)\n"
     ]
    }
   ],
   "source": [
    "print(twoColumns.shape)"
   ]
  },
  {
   "cell_type": "markdown",
   "metadata": {},
   "source": [
    "- You can use indexing to just get the number of columns\n",
    "- try print(twoColumns.shape[1]) to get just the number of columns, [0] would give you just the number of rows"
   ]
  },
  {
   "cell_type": "code",
   "execution_count": 61,
   "metadata": {
    "scrolled": true
   },
   "outputs": [
    {
     "name": "stdout",
     "output_type": "stream",
     "text": [
      "2\n"
     ]
    }
   ],
   "source": [
    "print(twoColumns.shape[1])"
   ]
  },
  {
   "cell_type": "markdown",
   "metadata": {},
   "source": [
    "## Indexing arrays\n",
    "- you can index arrays with multiple columns using the same square bracket syntax [ ]\n",
    "- you use a comma to seperate the index for a row and column\n",
    "- in the cell below print(twoColumns[4,1]) to print the value at position 4 in column 1 (remember countings starts from zero)\n",
    "- You can get all of dimension using :\n",
    "- try print(twoColumns[:,1])\n",
    "- then try print(twoColumns[3,:])"
   ]
  },
  {
   "cell_type": "code",
   "execution_count": 67,
   "metadata": {
    "scrolled": false
   },
   "outputs": [
    {
     "name": "stdout",
     "output_type": "stream",
     "text": [
      "14\n",
      "[10 11 12 13 14 15 16 17 18 19]\n",
      "[ 3 13]\n"
     ]
    }
   ],
   "source": [
    "print(twoColumns[4,1])\n",
    "print(twoColumns[:,1])\n",
    "print(twoColumns[3,:])"
   ]
  },
  {
   "cell_type": "markdown",
   "metadata": {},
   "source": [
    "#### You have now learnt how to index/slice arrays!\n",
    "You can get tips reminders of this important syntax on the numpy-cheat-sheet in the prework folder"
   ]
  },
  {
   "cell_type": "markdown",
   "metadata": {},
   "source": [
    "----------------------------\n",
    "***************************\n",
    "---------------------------\n",
    "# Now we will load some real data using numpy\n",
    "- data is a current clamp recording from a mitral cell in the olfactory bulb, a current injection is given to evoke action potential firing\n",
    "- we are going to plot the raw data, use event detection to automatically identify spikes and then calculate the average firing rate of the cell\n",
    "- run the cell below to load the data using np.loadtxt( )\n",
    "- note that you have to provide the full file name as a **string**"
   ]
  },
  {
   "cell_type": "code",
   "execution_count": 1,
   "metadata": {},
   "outputs": [],
   "source": [
    "data = np.loadtxt('mitralSpikes.txt');"
   ]
  },
  {
   "cell_type": "markdown",
   "metadata": {},
   "source": [
    "#### Now we can use some of NumPy features to measure things\n",
    "1) make a variable called dataPoints = data.shape[0] \n",
    "    - this is the number of rows i.e. data points in this file\n",
    "2) make a variable called peak = np.max(data)\n",
    "    - peak will contain the maximum value in data\n",
    "3) make a variable called AHP = np.min(data)\n",
    "    - AHP will contain the minimum value\n",
    "4) print some text that informs us of the number of data point, what the peak was and what the minimum is"
   ]
  },
  {
   "cell_type": "code",
   "execution_count": 2,
   "metadata": {},
   "outputs": [
    {
     "name": "stdout",
     "output_type": "stream",
     "text": [
      "this data has 15000 data points, with a peak of 16.679443 mV and a minimum of -69.135986\n"
     ]
    }
   ],
   "source": [
    "dataPoints = data.shape[0]\n",
    "peak = np.max(data)\n",
    "AHP = np.min(data)\n",
    "\n",
    "print(\"this data has\",dataPoints,'data points, with a peak of',peak,'mV and a minimum of',AHP)"
   ]
  },
  {
   "cell_type": "markdown",
   "metadata": {},
   "source": [
    "# Now we will visualise it using matplotlib which we have called plt"
   ]
  },
  {
   "cell_type": "code",
   "execution_count": 12,
   "metadata": {
    "scrolled": false
   },
   "outputs": [
    {
     "data": {
      "application/vnd.jupyter.widget-view+json": {
       "model_id": "a4dbed2c0c604092859edf47bd79dd6c",
       "version_major": 2,
       "version_minor": 0
      },
      "text/plain": [
       "Canvas(toolbar=Toolbar(toolitems=[('Home', 'Reset original view', 'home', 'home'), ('Back', 'Back to previous …"
      ]
     },
     "metadata": {},
     "output_type": "display_data"
    }
   ],
   "source": [
    "plt.figure('quick plot') # this creates a new figure\n",
    "plt.plot(data); # matplotlib enables very quick and simple display of data"
   ]
  },
  {
   "cell_type": "markdown",
   "metadata": {},
   "source": [
    "#### Play about with the graph's controls\n",
    "- the empty square allows you to draw a box on the graph that will zoom in\n",
    "- the crossed arrows allow you to drag the plot arround, useful when you have zoomed in\n",
    "- the home button resets the axis\n",
    "\n",
    "#### Note the x axis is just displayed as point number rather than seconds\n",
    "- we need an array of the same length that conatins the corresponding time points \n",
    "- we can use np.arange( ) to generate the appropriate range of time points\n",
    "- You need to provide the start time, stop time and interval (time step)\n",
    "- whenever you need to find out how to do or use someting in python google is your friend! (https://numpy.org/doc/stable/reference/generated/numpy.arange.html)"
   ]
  },
  {
   "cell_type": "markdown",
   "metadata": {},
   "source": [
    "#### How to determine the end time and interval. You need to know the sample rate\n",
    "The sample rate was 15 kHz, i.e. 15000 points a second  \n",
    "If the start time is zero the time of the last point is the number of points divided by the sample rate  \n",
    "The interval in seconds is simply 1/sample rate\n",
    "\n",
    "- create a variable called sampleRate=15000\n",
    "- then create a variable called xScale = np.arange( )\n",
    "- input the appropriate parameters\n",
    "- hint you can do calculations in the input e.g. np.arange(0, data.shape[0]/sampleRate, __________ )\n",
    "- you just need to fill in the blank.\n"
   ]
  },
  {
   "cell_type": "code",
   "execution_count": 9,
   "metadata": {},
   "outputs": [],
   "source": [
    "sampleRate = 15000\n",
    "xScale = np.arange(0,(len(data)/sampleRate),1/sampleRate)"
   ]
  },
  {
   "cell_type": "markdown",
   "metadata": {},
   "source": [
    "#### Now we can plot the graph with the correct xScale\n",
    "- details here"
   ]
  },
  {
   "cell_type": "code",
   "execution_count": 10,
   "metadata": {},
   "outputs": [
    {
     "data": {
      "application/vnd.jupyter.widget-view+json": {
       "model_id": "5d1413ef1a6840fb81f4a8abd81c5372",
       "version_major": 2,
       "version_minor": 0
      },
      "text/plain": [
       "Canvas(toolbar=Toolbar(toolitems=[('Home', 'Reset original view', 'home', 'home'), ('Back', 'Back to previous …"
      ]
     },
     "metadata": {},
     "output_type": "display_data"
    }
   ],
   "source": [
    "plt.figure() #create a new figure\n",
    "\n",
    "plt.plot(xScale,data)\n",
    "\n",
    "plt.xlabel('Time (s)');\n",
    "plt.ylabel('Vm (mV)');\n"
   ]
  },
  {
   "cell_type": "markdown",
   "metadata": {},
   "source": [
    "### Now lets get the time of each action potential so that we can calculate spike rate.\n",
    "We will use the signal package from scipy to do this"
   ]
  },
  {
   "cell_type": "code",
   "execution_count": 10,
   "metadata": {},
   "outputs": [],
   "source": [
    "import scipy.signal as signal"
   ]
  },
  {
   "cell_type": "code",
   "execution_count": 11,
   "metadata": {
    "scrolled": true
   },
   "outputs": [
    {
     "name": "stdout",
     "output_type": "stream",
     "text": [
      "we detected  53  spikes\n"
     ]
    }
   ],
   "source": [
    "peaks, props = signal.find_peaks(data,height=0) #this function returns two things: 1) peaks\n",
    "# which is the location of the spike in sample points and props which contains other details about the peaks\n",
    "peaks=peaks/sampleRate  # convert the sample points to time\n",
    "peakY=np.zeros(len(peaks))     #np.zeros(x) creates an array of length x filled with zeros, np.ones fills it with 1s\n",
    "print('we detected ',len(peaks),' spikes')"
   ]
  },
  {
   "cell_type": "markdown",
   "metadata": {},
   "source": [
    "### we now have a list of spike times, we can now make a histogram of the instantaneous spike rates"
   ]
  },
  {
   "cell_type": "code",
   "execution_count": 13,
   "metadata": {},
   "outputs": [
    {
     "data": {
      "application/vnd.jupyter.widget-view+json": {
       "model_id": "42dd2612396e4947ac4048957f33e567",
       "version_major": 2,
       "version_minor": 0
      },
      "text/plain": [
       "Canvas(toolbar=Toolbar(toolitems=[('Home', 'Reset original view', 'home', 'home'), ('Back', 'Back to previous …"
      ]
     },
     "metadata": {},
     "output_type": "display_data"
    },
    {
     "name": "stdout",
     "output_type": "stream",
     "text": [
      "The mean spike rate is 87.15083798882682 Hz\n"
     ]
    }
   ],
   "source": [
    "interSpikeIntervals = peaks[1:]-peaks[0:-1]\n",
    "meanISI = np.mean(interSpikeIntervals)\n",
    "plt.figure()\n",
    "plt.hist(1/interSpikeIntervals);\n",
    "plt.xlabel('Hz')\n",
    "print('The mean spike rate is',1/meanISI,'Hz')"
   ]
  },
  {
   "cell_type": "markdown",
   "metadata": {},
   "source": [
    "## Now we will put all of this together to make a publictaion quality figure"
   ]
  },
  {
   "cell_type": "markdown",
   "metadata": {},
   "source": [
    "# numpy arrays and plotting\n",
    "### You have learnt about:\n",
    "   - how to import extra modules into python for use in your analysis\n",
    "   - how to load text files into numpy arrays\n",
    "   - numpy arrays allow maths on lists of numbers\n",
    "   - how to query the dimesions of numpy arrays\n",
    "   - how to quickly plot data to examine it using matplotlib\n",
    "   - how to label axis of matplotlib graphs\n",
    "   - you used a module of scipy to detect action potentials and calculate firing rate\n",
    "   \n"
   ]
  },
  {
   "cell_type": "code",
   "execution_count": null,
   "metadata": {},
   "outputs": [],
   "source": []
  }
 ],
 "metadata": {
  "kernelspec": {
   "display_name": "Python 3",
   "language": "python",
   "name": "python3"
  },
  "language_info": {
   "codemirror_mode": {
    "name": "ipython",
    "version": 3
   },
   "file_extension": ".py",
   "mimetype": "text/x-python",
   "name": "python",
   "nbconvert_exporter": "python",
   "pygments_lexer": "ipython3",
   "version": "3.7.6"
  },
  "varInspector": {
   "cols": {
    "lenName": 16,
    "lenType": 16,
    "lenVar": 40
   },
   "kernels_config": {
    "python": {
     "delete_cmd_postfix": "",
     "delete_cmd_prefix": "del ",
     "library": "var_list.py",
     "varRefreshCmd": "print(var_dic_list())"
    },
    "r": {
     "delete_cmd_postfix": ") ",
     "delete_cmd_prefix": "rm(",
     "library": "var_list.r",
     "varRefreshCmd": "cat(var_dic_list()) "
    }
   },
   "position": {
    "height": "510px",
    "left": "762px",
    "right": "20px",
    "top": "109px",
    "width": "340px"
   },
   "types_to_exclude": [
    "module",
    "function",
    "builtin_function_or_method",
    "instance",
    "_Feature"
   ],
   "window_display": false
  }
 },
 "nbformat": 4,
 "nbformat_minor": 2
}
