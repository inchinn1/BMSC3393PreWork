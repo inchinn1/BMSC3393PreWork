{
 "cells": [
  {
   "cell_type": "markdown",
   "metadata": {},
   "source": [
    "# Loading and using modules/libraries"
   ]
  },
  {
   "cell_type": "markdown",
   "metadata": {},
   "source": [
    "## Python has been extended with modules developed by a massive community to enable you to do pretty much any kind of analysis or data visualisation that you need \n",
    "##### Note on terminology: Libraries are collections of packages which are collections of modules \n",
    "\n",
    "### To use any of these modules you normally need to install the package/module:\n",
    "- for this workshop I have already installed what you require\n",
    "- once libraries/packages have been installed you need to import them into the note book\n",
    "- run the cell below to do this\n",
    "\n"
   ]
  },
  {
   "cell_type": "code",
   "execution_count": 1,
   "metadata": {},
   "outputs": [],
   "source": [
    "import numpy as np \n",
    "# the line above imports all of the numpy package which you will now refer to as 'np'\n",
    "from matplotlib import pyplot as plt \n",
    "# the line above imports the pyplot package from the matplotlib library which you will \n",
    "# now refer to as plt, it is useful for plotting data\n",
    "\n",
    "%matplotlib widget\n"
   ]
  },
  {
   "cell_type": "markdown",
   "metadata": {},
   "source": [
    "#### Recall that you can not do maths with lists of numbers\n",
    "- run the below cell to recreate the list of numbers from PreWork1"
   ]
  },
  {
   "cell_type": "code",
   "execution_count": 20,
   "metadata": {},
   "outputs": [],
   "source": [
    "numbersInList=[0,1,2,3,4,5,6,7,8,9]  # this is our numbers in list from PreWork1 "
   ]
  },
  {
   "cell_type": "markdown",
   "metadata": {},
   "source": [
    "#### We will now use numPy to convert the list of numbers to an NumPy array. This is done with np.asarray( )"
   ]
  },
  {
   "cell_type": "code",
   "execution_count": 28,
   "metadata": {},
   "outputs": [],
   "source": [
    "arrayOfNumbers=np.asarray(numbersInList)"
   ]
  },
  {
   "cell_type": "code",
   "execution_count": 29,
   "metadata": {},
   "outputs": [
    {
     "name": "stdout",
     "output_type": "stream",
     "text": [
      "[0 1 2 3 4 5 6 7 8 9]\n"
     ]
    }
   ],
   "source": [
    "print(arrayOfNumbers)   #we have now converted the list of numbers to an array"
   ]
  },
  {
   "cell_type": "markdown",
   "metadata": {},
   "source": [
    "#### Now try multiplying this arrayOfNumbers by 3\n",
    "- make a new variable result =  arrayOfNumbers * 3\n",
    "- then print result"
   ]
  },
  {
   "cell_type": "code",
   "execution_count": 30,
   "metadata": {},
   "outputs": [
    {
     "name": "stdout",
     "output_type": "stream",
     "text": [
      "[ 0  3  6  9 12 15 18 21 24 27]\n"
     ]
    }
   ],
   "source": [
    "result = arrayOfNumbers * 3\n",
    "print(result)"
   ]
  },
  {
   "cell_type": "markdown",
   "metadata": {},
   "source": [
    "#### Similar to a list you can use indexing [ ] to refer to particular places in the array\n",
    "- try print(arrayOfNumbers[3])\n",
    "- you can also specify a range using start:stop, e.g. try print(arrayOfNumbers[2:5])"
   ]
  },
  {
   "cell_type": "code",
   "execution_count": 31,
   "metadata": {},
   "outputs": [
    {
     "name": "stdout",
     "output_type": "stream",
     "text": [
      "3\n",
      "[2 3 4]\n"
     ]
    }
   ],
   "source": [
    "print(arrayOfNumbers[3])\n",
    "print(arrayOfNumbers[2:5])"
   ]
  },
  {
   "cell_type": "markdown",
   "metadata": {},
   "source": [
    "********\n",
    "---------\n",
    "#### You can think of arrays a bit like an excel sheet. Our \"arrayOfNumbers\" is equivalent to a single column with 10 rows \n",
    "- run the next cell to create an array with 2 columns of 10 rows"
   ]
  },
  {
   "cell_type": "code",
   "execution_count": 62,
   "metadata": {},
   "outputs": [
    {
     "name": "stdout",
     "output_type": "stream",
     "text": [
      "[[ 0 10]\n",
      " [ 1 11]\n",
      " [ 2 12]\n",
      " [ 3 13]\n",
      " [ 4 14]\n",
      " [ 5 15]\n",
      " [ 6 16]\n",
      " [ 7 17]\n",
      " [ 8 18]\n",
      " [ 9 19]]\n"
     ]
    }
   ],
   "source": [
    "twoColumns =np.vstack((arrayOfNumbers,arrayOfNumbers+10)).T\n",
    "# you do not need to understand the above line. I have just used it to create some test data\n",
    "print(twoColumns)"
   ]
  },
  {
   "cell_type": "markdown",
   "metadata": {},
   "source": [
    "#### A very useful query is what shape an array has, i.e. how may rows and how many columns\n",
    "- you can do this by simply using .shape\n",
    "- in the cell below type print(twoColumns.shape) and run it\n",
    "- this will return 2 numbers the first is the number of rows, the second is the number of columns"
   ]
  },
  {
   "cell_type": "code",
   "execution_count": 59,
   "metadata": {},
   "outputs": [
    {
     "name": "stdout",
     "output_type": "stream",
     "text": [
      "(10, 2)\n"
     ]
    }
   ],
   "source": [
    "print(twoColumns.shape)"
   ]
  },
  {
   "cell_type": "markdown",
   "metadata": {},
   "source": [
    "- You can use indexing to just get the number of columns\n",
    "- try print(twoColumns.shape[1]) to get just the number of columns, [0] would give you just the number of rows"
   ]
  },
  {
   "cell_type": "code",
   "execution_count": 61,
   "metadata": {
    "scrolled": true
   },
   "outputs": [
    {
     "name": "stdout",
     "output_type": "stream",
     "text": [
      "2\n"
     ]
    }
   ],
   "source": [
    "print(twoColumns.shape[1])"
   ]
  },
  {
   "cell_type": "markdown",
   "metadata": {},
   "source": [
    "## Indexing arrays\n",
    "- you can index arrays with multiple columns using the same square bracket syntax [ ]\n",
    "- you use a comma to seperate the index for a row and column\n",
    "- in the cell below print(twoColumns[4,1]) to print the value at position 4 in column 1 (remember countings starts from zero)\n",
    "- You can get all of dimension using :\n",
    "- try print(twoColumns[:,1])\n",
    "- then try print(twoColumns[3,:])"
   ]
  },
  {
   "cell_type": "code",
   "execution_count": 67,
   "metadata": {
    "scrolled": false
   },
   "outputs": [
    {
     "name": "stdout",
     "output_type": "stream",
     "text": [
      "14\n",
      "[10 11 12 13 14 15 16 17 18 19]\n",
      "[ 3 13]\n"
     ]
    }
   ],
   "source": [
    "print(twoColumns[4,1])\n",
    "print(twoColumns[:,1])\n",
    "print(twoColumns[3,:])"
   ]
  },
  {
   "cell_type": "markdown",
   "metadata": {},
   "source": [
    "#### You have now learnt how to index/slice arrays!\n",
    "You can get tips reminders of this important syntax on the numpy-cheat-sheet in the prework folder"
   ]
  },
  {
   "cell_type": "markdown",
   "metadata": {},
   "source": [
    "# Now we will load some real data\n",
    "- data is a current clamp recording from a mitral cell in the olfactory bulb, a current injection is given to evoke action potential firing\n",
    "- we are going to plot the raw data, use event detection to automatically identify spikes and then calculate the average firing rate of the cell"
   ]
  },
  {
   "cell_type": "code",
   "execution_count": 72,
   "metadata": {},
   "outputs": [
    {
     "name": "stdout",
     "output_type": "stream",
     "text": [
      "this data has 15000 data points, with a peak of 16.679443 mV and a minimum of -69.135986\n"
     ]
    }
   ],
   "source": [
    "data = np.loadtxt('mitralSpikes.txt');\n",
    "dataPoints = data.shape[0]\n",
    "peak = np.max(data)\n",
    "AHP = np.min(data)\n",
    "\n",
    "print(\"this data has\",dataPoints,'data points, with a peak of',peak,'mV and a minimum of',AHP)"
   ]
  },
  {
   "cell_type": "markdown",
   "metadata": {},
   "source": [
    "# now we will visualise it"
   ]
  },
  {
   "cell_type": "code",
   "execution_count": 7,
   "metadata": {},
   "outputs": [
    {
     "data": {
      "application/vnd.jupyter.widget-view+json": {
       "model_id": "7fe0453ecf1241d3a2bbb9c35d7e3341",
       "version_major": 2,
       "version_minor": 0
      },
      "text/plain": [
       "Canvas(toolbar=Toolbar(toolitems=[('Home', 'Reset original view', 'home', 'home'), ('Back', 'Back to previous …"
      ]
     },
     "metadata": {},
     "output_type": "display_data"
    }
   ],
   "source": [
    "plt.plot(data); # matplotlib enables very quick and simple display of data\n"
   ]
  },
  {
   "cell_type": "markdown",
   "metadata": {},
   "source": [
    "### To make the plots more accurate we need an xscale and to add axis labels"
   ]
  },
  {
   "cell_type": "code",
   "execution_count": 8,
   "metadata": {},
   "outputs": [],
   "source": [
    "sampleRate = 15000\n",
    "xScale = np.arange(0,(len(data)/sampleRate),1/sampleRate)"
   ]
  },
  {
   "cell_type": "code",
   "execution_count": 18,
   "metadata": {},
   "outputs": [
    {
     "data": {
      "application/vnd.jupyter.widget-view+json": {
       "model_id": "1422f04be4164f43b2f7916a2de3784b",
       "version_major": 2,
       "version_minor": 0
      },
      "text/plain": [
       "Canvas(toolbar=Toolbar(toolitems=[('Home', 'Reset original view', 'home', 'home'), ('Back', 'Back to previous …"
      ]
     },
     "metadata": {},
     "output_type": "display_data"
    }
   ],
   "source": [
    "fig = plt.figure(figsize=(8,5)) #specify the canvas on which the figure will be plotted\n",
    "ax1 = fig.add_subplot(111) # ax1 is the subplot axis in which we will plot things\n",
    "\n",
    "ax1.plot(xScale,data)\n",
    "\n",
    "ax1.set_xlabel('Time (s)');\n",
    "ax1.set_ylabel('Vm (mV)');\n"
   ]
  },
  {
   "cell_type": "markdown",
   "metadata": {},
   "source": [
    "### Now lets get the time of each action potential so that we can calculate spike rate.\n",
    "We will use the signal package from scipy to do this"
   ]
  },
  {
   "cell_type": "code",
   "execution_count": 10,
   "metadata": {},
   "outputs": [],
   "source": [
    "import scipy.signal as signal"
   ]
  },
  {
   "cell_type": "code",
   "execution_count": 11,
   "metadata": {
    "scrolled": true
   },
   "outputs": [
    {
     "name": "stdout",
     "output_type": "stream",
     "text": [
      "we detected  53  spikes\n"
     ]
    }
   ],
   "source": [
    "peaks, props = signal.find_peaks(data,height=0) #this function returns two things: 1) peaks\n",
    "# which is the location of the spike in sample points and props which contains other details about the peaks\n",
    "peaks=peaks/sampleRate  # convert the sample points to time\n",
    "peakY=np.zeros(len(peaks))     #np.zeros(x) creates an array of length x filled with zeros, np.ones fills it with 1s\n",
    "print('we detected ',len(peaks),' spikes')"
   ]
  },
  {
   "cell_type": "markdown",
   "metadata": {},
   "source": [
    "### we now have a list of spike times, we can now make a histogram of the instantaneous spike rates"
   ]
  },
  {
   "cell_type": "code",
   "execution_count": 13,
   "metadata": {},
   "outputs": [
    {
     "data": {
      "application/vnd.jupyter.widget-view+json": {
       "model_id": "42dd2612396e4947ac4048957f33e567",
       "version_major": 2,
       "version_minor": 0
      },
      "text/plain": [
       "Canvas(toolbar=Toolbar(toolitems=[('Home', 'Reset original view', 'home', 'home'), ('Back', 'Back to previous …"
      ]
     },
     "metadata": {},
     "output_type": "display_data"
    },
    {
     "name": "stdout",
     "output_type": "stream",
     "text": [
      "The mean spike rate is 87.15083798882682 Hz\n"
     ]
    }
   ],
   "source": [
    "interSpikeIntervals = peaks[1:]-peaks[0:-1]\n",
    "meanISI = np.mean(interSpikeIntervals)\n",
    "plt.figure()\n",
    "plt.hist(1/interSpikeIntervals);\n",
    "plt.xlabel('Hz')\n",
    "print('The mean spike rate is',1/meanISI,'Hz')"
   ]
  },
  {
   "cell_type": "markdown",
   "metadata": {},
   "source": [
    "## Now we will put all of this together to make a publictaion quality figure"
   ]
  },
  {
   "cell_type": "code",
   "execution_count": 15,
   "metadata": {},
   "outputs": [
    {
     "data": {
      "application/vnd.jupyter.widget-view+json": {
       "model_id": "c3a3871ab3fd4b1a93e48f405c06dd20",
       "version_major": 2,
       "version_minor": 0
      },
      "text/plain": [
       "Canvas(toolbar=Toolbar(toolitems=[('Home', 'Reset original view', 'home', 'home'), ('Back', 'Back to previous …"
      ]
     },
     "metadata": {},
     "output_type": "display_data"
    }
   ],
   "source": [
    "fig, axs = plt.subplots(1, 2, figsize=(10, 5),constrained_layout=True, gridspec_kw={'width_ratios': [2.5, 1]}) \n",
    "# create a new canvas that is 12 x 5 for the figure with a constrained layout with 1 row and 2 columns of subplots\n",
    "# we then specify that the left column should be 2.5 time wider than the right \n",
    "\n",
    "axs[0].plot(xScale,data,label='raw data');\n",
    "axs[0].plot(peaks,peakY,'.',label='detected spikes');\n",
    "axs[0].set_xlabel('Time (s)');\n",
    "axs[0].set_ylabel('Vm (mV)');\n",
    "axs[0].legend()\n",
    "\n",
    "axs[1].hist(1/interSpikeIntervals);\n",
    "axs[1].set_xlabel('Hz');\n",
    "axs[1].set_ylabel('# of spikes');\n",
    "axs[1].set_title('Instantaneous spike rate');\n"
   ]
  },
  {
   "cell_type": "markdown",
   "metadata": {},
   "source": [
    "## Another example taking advantage of arrays\n",
    "- see the numpy cheat sheet to learn about indexing and slicing of multidimensional arrays (its in the minerva folder) \n",
    "- data is a voltage clamp recording of a Kv2 potassium current taken from: Johnston, et al (2008). Initial segment Kv2.2 channels mediate a slow delayed rectifier and maintain high frequency action potential firing in medial nucleus of the trapezoid body neurons. J Physiol 586, 3493-3509.\n",
    "- we are going to plot the raw data with the command voltage and make plots of the current voltage relationship and the activation kinetics of the channel"
   ]
  },
  {
   "cell_type": "code",
   "execution_count": null,
   "metadata": {},
   "outputs": [],
   "source": [
    "#Load the data\n",
    "measuredI=np.loadtxt('VClampI.csv', delimiter=','); ## load some new data, this is comma seperated...\n",
    "commandV=np.loadtxt('VClampV.csv', delimiter=','); ## load some new data, this is comma seperated...\n",
    "\n",
    "VCsampleRate = 10000\n",
    "xScaleVC = np.arange(0,len(measuredI)/VCsampleRate, 1/VCsampleRate)\n",
    "# the units of measuredI is pA\n",
    "# the units of commandV is mV\n"
   ]
  },
  {
   "cell_type": "code",
   "execution_count": null,
   "metadata": {},
   "outputs": [],
   "source": [
    "# check what its dimensions look like\n",
    "print('len returns',len(measuredI))\n",
    "print('whereas .shape returns the length of each dimension')\n",
    "print(measuredI.shape) # standard python index for multiple dimension is [z,x,y]"
   ]
  },
  {
   "cell_type": "code",
   "execution_count": null,
   "metadata": {},
   "outputs": [],
   "source": [
    "plt.plot(measuredI);\n"
   ]
  },
  {
   "cell_type": "markdown",
   "metadata": {},
   "source": [
    "#### All of the current traces are in pA lets convert them all to nA by dividing them all by 1000"
   ]
  },
  {
   "cell_type": "code",
   "execution_count": null,
   "metadata": {},
   "outputs": [],
   "source": [
    "measuredI=measuredI/1000\n",
    "plt.plot(measuredI);"
   ]
  },
  {
   "cell_type": "markdown",
   "metadata": {},
   "source": [
    "## We will now make a multipanel figure displaying the raw data and some analysis"
   ]
  },
  {
   "cell_type": "code",
   "execution_count": null,
   "metadata": {},
   "outputs": [],
   "source": [
    "fig, axs = plt.subplots(2, 2, figsize=(12, 8),constrained_layout=True, sharex='col')\n",
    "\n",
    "axs[0,0].plot(xScaleVC,measuredI)\n",
    "axs[0,0].set_xlim(.72,.9)\n",
    "axs[0,0].set_ylabel('current (nA)')\n",
    "# add lines to indicate where measurements were taken\n",
    "axs[0,0].axvline(.78,0.1,1,linestyle='--')\n",
    "axs[0,0].axvline(.8724,0.1,1,linestyle='--',color='r')\n",
    "\n",
    "axs[1,0].plot(xScaleVC,commandV)\n",
    "axs[1,0].set_ylabel('Voltage (mV)')\n",
    "axs[1,0].set_xlabel('Time (s)')\n",
    "\n",
    "\n",
    "axs[0,1].plot(commandV[7800,:],measuredI[7800,:],linewidth=2,marker='o')\n",
    "axs[0,1].set_title('Current voltage relationship')\n",
    "axs[0,1].set_ylabel('current (nA)')\n",
    "\n",
    "activation = measuredI[8724,:]-measuredI[8724,-1]\n",
    "activation=activation/activation[0]\n",
    "\n",
    "axs[1,1].plot(commandV[8000,:],activation,'r',linewidth=2,marker='o')\n",
    "axs[1,1].set_title('Activation curve')\n",
    "axs[1,1].set_ylabel('I/Imax')\n",
    "axs[1,1].set_xlabel('Voltage (mV)');"
   ]
  },
  {
   "cell_type": "markdown",
   "metadata": {},
   "source": [
    "# numpy arrays and plotting\n",
    "### You have learnt about:\n",
    "   - how to load extra modules into python and import them for use in your analysis\n",
    "   - how to load text files and csv data into numpy arrays\n",
    "   - numpy arrays allow maths on lists of numbers\n",
    "   - how to query the dimesions of numpy arrays\n",
    "   - how to quickly plot data to examine it using matplotlib\n",
    "   - you used a module of scipy to detect action potentials and calculated firing rate\n",
    "   - how to generate multipanel layouts with annotated figures\n",
    "   - how to loop through arrays to efficiently add multiple traces to a graph\n",
    "   - how to use numpy indexing to quickly generate analysis plots \n",
    "   \n"
   ]
  }
 ],
 "metadata": {
  "kernelspec": {
   "display_name": "Python 3",
   "language": "python",
   "name": "python3"
  },
  "language_info": {
   "codemirror_mode": {
    "name": "ipython",
    "version": 3
   },
   "file_extension": ".py",
   "mimetype": "text/x-python",
   "name": "python",
   "nbconvert_exporter": "python",
   "pygments_lexer": "ipython3",
   "version": "3.7.6"
  },
  "varInspector": {
   "cols": {
    "lenName": 16,
    "lenType": 16,
    "lenVar": 40
   },
   "kernels_config": {
    "python": {
     "delete_cmd_postfix": "",
     "delete_cmd_prefix": "del ",
     "library": "var_list.py",
     "varRefreshCmd": "print(var_dic_list())"
    },
    "r": {
     "delete_cmd_postfix": ") ",
     "delete_cmd_prefix": "rm(",
     "library": "var_list.r",
     "varRefreshCmd": "cat(var_dic_list()) "
    }
   },
   "position": {
    "height": "510px",
    "left": "762px",
    "right": "20px",
    "top": "109px",
    "width": "340px"
   },
   "types_to_exclude": [
    "module",
    "function",
    "builtin_function_or_method",
    "instance",
    "_Feature"
   ],
   "window_display": false
  }
 },
 "nbformat": 4,
 "nbformat_minor": 2
}
